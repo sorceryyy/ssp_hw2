{
 "cells": [
  {
   "cell_type": "code",
   "execution_count": 2,
   "metadata": {},
   "outputs": [
    {
     "name": "stdout",
     "output_type": "stream",
     "text": [
      "File converted successfully and saved to record_english.wav\n"
     ]
    }
   ],
   "source": [
    "from pydub import AudioSegment\n",
    "\n",
    "# 指定源文件和目标文件路径\n",
    "source_path = 'record_english.m4a'\n",
    "destination_path = 'record_english.wav'\n",
    "\n",
    "# 使用pydub加载M4A文件\n",
    "audio = AudioSegment.from_file(source_path, format=\"m4a\")\n",
    "\n",
    "# 导出为WAV格式\n",
    "audio.export(destination_path, format=\"wav\")\n",
    "\n",
    "print(f\"File converted successfully and saved to {destination_path}\")\n"
   ]
  },
  {
   "cell_type": "code",
   "execution_count": 4,
   "metadata": {},
   "outputs": [
    {
     "name": "stdout",
     "output_type": "stream",
     "text": [
      "Audio trimmed and saved to trimmed_audio_300s.wav\n"
     ]
    }
   ],
   "source": [
    "from pydub import AudioSegment\n",
    "\n",
    "def trim_audio(source_path, target_path, length=30000):\n",
    "    \"\"\"\n",
    "    截取音频文件的前30秒。\n",
    "    \n",
    "    :param source_path: 原始音频文件路径\n",
    "    :param target_path: 输出音频文件路径\n",
    "    :param length: 截取的长度，单位为毫秒（30000毫秒等于30秒）\n",
    "    \"\"\"\n",
    "    # 加载音频文件\n",
    "    audio = AudioSegment.from_file(source_path)\n",
    "    \n",
    "    # 截取前30秒\n",
    "    trimmed_audio = audio[-length:]\n",
    "    \n",
    "    # 保存新的音频文件\n",
    "    trimmed_audio.export(target_path, format=\"wav\")\n",
    "\n",
    "    print(f\"Audio trimmed and saved to {target_path}\")\n",
    "\n",
    "# 示例调用函数\n",
    "source_file_path = destination_path  # 替换为你的文件路径\n",
    "cliped_file_path = 'trimmed_audio_300s.wav'              # 设置输出文件名\n",
    "trim_audio(source_file_path, cliped_file_path, length=300000)  # 截取30秒\n"
   ]
  }
 ],
 "metadata": {
  "kernelspec": {
   "display_name": "ssp",
   "language": "python",
   "name": "python3"
  },
  "language_info": {
   "codemirror_mode": {
    "name": "ipython",
    "version": 3
   },
   "file_extension": ".py",
   "mimetype": "text/x-python",
   "name": "python",
   "nbconvert_exporter": "python",
   "pygments_lexer": "ipython3",
   "version": "3.9.20"
  }
 },
 "nbformat": 4,
 "nbformat_minor": 2
}
